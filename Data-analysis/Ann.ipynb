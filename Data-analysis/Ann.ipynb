{
 "cells": [
  {
   "cell_type": "markdown",
   "metadata": {},
   "source": [
    "### Data Preparation"
   ]
  },
  {
   "cell_type": "markdown",
   "metadata": {},
   "source": [
    "* This notebook helps to read \"sample.ann\" files"
   ]
  },
  {
   "cell_type": "markdown",
   "metadata": {},
   "source": [
    "-------"
   ]
  },
  {
   "cell_type": "code",
   "execution_count": 2,
   "metadata": {
    "collapsed": true
   },
   "outputs": [],
   "source": [
    "import pandas as pd\n",
    "from sklearn.preprocessing import LabelEncoder \n",
    "import matplotlib.pyplot as plt\n",
    "import seaborn as sns\n",
    "import numpy as np\n",
    "from time import time"
   ]
  },
  {
   "cell_type": "code",
   "execution_count": 3,
   "metadata": {
    "collapsed": false
   },
   "outputs": [],
   "source": [
    "% matplotlib inline\n",
    "#import scikitplot\n",
    "#import scikitplot.plotters as skplt"
   ]
  },
  {
   "cell_type": "markdown",
   "metadata": {},
   "source": [
    "### Read node data from Files"
   ]
  },
  {
   "cell_type": "code",
   "execution_count": 4,
   "metadata": {
    "collapsed": true
   },
   "outputs": [],
   "source": [
    "def sum_items(items):\n",
    "    st =\"\"\n",
    "    for item in items:\n",
    "        st = st+\" \"+item\n",
    "    return st"
   ]
  },
  {
   "cell_type": "code",
   "execution_count": 5,
   "metadata": {
    "collapsed": true
   },
   "outputs": [],
   "source": [
    "def df_generator(input_file):\n",
    "    \n",
    "    C = []\n",
    "    \n",
    "    with open(input_file) as f:\n",
    "        for line in f:\n",
    "            C.append(line.split())\n",
    "\n",
    "    L = []\n",
    "    for item in C:\n",
    "        if item[0][0] ==\"T\":\n",
    "            t_key = item[0]\n",
    "            t_type = item[1]\n",
    "            all_items = item[4:]\n",
    "            L.append([t_key,t_type, sum_items(all_items)])\n",
    "            \n",
    "            \n",
    "    LL = pd.DataFrame(L, columns = [\"t_key\", \"t_type\", \"t_values\"], index = None)\n",
    "    return LL"
   ]
  },
  {
   "cell_type": "markdown",
   "metadata": {},
   "source": [
    "---------"
   ]
  },
  {
   "cell_type": "markdown",
   "metadata": {},
   "source": [
    "### Get  node data"
   ]
  },
  {
   "cell_type": "code",
   "execution_count": 6,
   "metadata": {
    "collapsed": false
   },
   "outputs": [
    {
     "data": {
      "text/plain": [
       "200"
      ]
     },
     "execution_count": 6,
     "metadata": {},
     "output_type": "execute_result"
    }
   ],
   "source": [
    "import glob\n",
    "ann_files =  glob.glob(\"data/*.ann\")\n",
    "len(ann_files)"
   ]
  },
  {
   "cell_type": "code",
   "execution_count": 7,
   "metadata": {
    "collapsed": false
   },
   "outputs": [],
   "source": [
    "all_df = pd.DataFrame(columns = [\"t_key\",\"t_type\",\"t_values\"], index = None)\n",
    "for file in ann_files:\n",
    "    df = df_generator(file) \n",
    "    all_df = pd.concat([all_df,df])   "
   ]
  },
  {
   "cell_type": "code",
   "execution_count": 8,
   "metadata": {
    "collapsed": false
   },
   "outputs": [],
   "source": [
    "alldf = all_df\n",
    "lbn = LabelEncoder()\n",
    "lbn.fit(alldf[\"t_type\"])\n",
    "lbn.transform(alldf[\"t_type\"])\n",
    "alldf['t_label'] = lbn.transform(alldf[\"t_type\"])"
   ]
  },
  {
   "cell_type": "code",
   "execution_count": 9,
   "metadata": {
    "collapsed": false
   },
   "outputs": [
    {
     "data": {
      "text/html": [
       "<div>\n",
       "<table border=\"1\" class=\"dataframe\">\n",
       "  <thead>\n",
       "    <tr style=\"text-align: right;\">\n",
       "      <th></th>\n",
       "      <th>t_key</th>\n",
       "      <th>t_type</th>\n",
       "      <th>t_values</th>\n",
       "      <th>t_label</th>\n",
       "    </tr>\n",
       "  </thead>\n",
       "  <tbody>\n",
       "    <tr>\n",
       "      <th>0</th>\n",
       "      <td>T1</td>\n",
       "      <td>Age</td>\n",
       "      <td>28-year-old</td>\n",
       "      <td>2</td>\n",
       "    </tr>\n",
       "    <tr>\n",
       "      <th>1</th>\n",
       "      <td>T2</td>\n",
       "      <td>History</td>\n",
       "      <td>previously healthy</td>\n",
       "      <td>20</td>\n",
       "    </tr>\n",
       "    <tr>\n",
       "      <th>2</th>\n",
       "      <td>T3</td>\n",
       "      <td>Gender</td>\n",
       "      <td>man</td>\n",
       "      <td>18</td>\n",
       "    </tr>\n",
       "    <tr>\n",
       "      <th>3</th>\n",
       "      <td>T4</td>\n",
       "      <td>Activity</td>\n",
       "      <td>presented</td>\n",
       "      <td>0</td>\n",
       "    </tr>\n",
       "    <tr>\n",
       "      <th>4</th>\n",
       "      <td>T5</td>\n",
       "      <td>Sign_symptom</td>\n",
       "      <td>healthy</td>\n",
       "      <td>31</td>\n",
       "    </tr>\n",
       "    <tr>\n",
       "      <th>5</th>\n",
       "      <td>T6</td>\n",
       "      <td>Duration</td>\n",
       "      <td>6-week</td>\n",
       "      <td>14</td>\n",
       "    </tr>\n",
       "    <tr>\n",
       "      <th>6</th>\n",
       "      <td>T7</td>\n",
       "      <td>Sign_symptom</td>\n",
       "      <td>palpitations</td>\n",
       "      <td>31</td>\n",
       "    </tr>\n",
       "    <tr>\n",
       "      <th>7</th>\n",
       "      <td>T8</td>\n",
       "      <td>Coreference</td>\n",
       "      <td>symptoms</td>\n",
       "      <td>7</td>\n",
       "    </tr>\n",
       "    <tr>\n",
       "      <th>8</th>\n",
       "      <td>T9</td>\n",
       "      <td>Activity</td>\n",
       "      <td>rest</td>\n",
       "      <td>0</td>\n",
       "    </tr>\n",
       "    <tr>\n",
       "      <th>9</th>\n",
       "      <td>T10</td>\n",
       "      <td>Frequency</td>\n",
       "      <td>2–3 times per week</td>\n",
       "      <td>17</td>\n",
       "    </tr>\n",
       "  </tbody>\n",
       "</table>\n",
       "</div>"
      ],
      "text/plain": [
       "  t_key        t_type             t_values  t_label\n",
       "0    T1           Age          28-year-old        2\n",
       "1    T2       History   previously healthy       20\n",
       "2    T3        Gender                  man       18\n",
       "3    T4      Activity            presented        0\n",
       "4    T5  Sign_symptom              healthy       31\n",
       "5    T6      Duration               6-week       14\n",
       "6    T7  Sign_symptom         palpitations       31\n",
       "7    T8   Coreference             symptoms        7\n",
       "8    T9      Activity                 rest        0\n",
       "9   T10     Frequency   2–3 times per week       17"
      ]
     },
     "execution_count": 9,
     "metadata": {},
     "output_type": "execute_result"
    }
   ],
   "source": [
    "alldf.head(10)"
   ]
  },
  {
   "cell_type": "markdown",
   "metadata": {},
   "source": [
    "* Unique Terms"
   ]
  },
  {
   "cell_type": "code",
   "execution_count": 10,
   "metadata": {
    "collapsed": true
   },
   "outputs": [],
   "source": [
    "uterms = set(alldf[\"t_type\"])"
   ]
  },
  {
   "cell_type": "code",
   "execution_count": 11,
   "metadata": {
    "collapsed": true
   },
   "outputs": [],
   "source": [
    "data_dict = {}\n",
    "for tm in uterms:\n",
    "    key = tm\n",
    "    value = list(alldf[alldf[\"t_type\"]== tm][\"t_values\"])\n",
    "    data_dict.update({key:value})"
   ]
  },
  {
   "cell_type": "code",
   "execution_count": 12,
   "metadata": {
    "collapsed": false
   },
   "outputs": [
    {
     "data": {
      "text/plain": [
       "dict_keys(['Dosage', 'Shape', 'Activity', 'Qualitative_concept', 'Other_event', 'Date', 'Quantitative_concept', 'Biological_attribute', 'Severity', 'Weight', 'Family_history', 'Frequency', 'Other_entity', 'Age', 'Subject', 'Volume', 'Administration', 'Nonbiological_location', 'Medication', 'Lab_value', 'Height', 'Ethnicity', 'Area', 'Therapeutic_procedure', 'Sign_symptom', 'History', 'Coreference', 'Diagnostic_procedure', 'Duration', 'Distance', 'Texture', 'Biological_structure', 'Color', 'Disease_disorder', 'Time', 'Gender', 'Detailed_description', 'Occupation'])"
      ]
     },
     "execution_count": 12,
     "metadata": {},
     "output_type": "execute_result"
    }
   ],
   "source": [
    "data_dict.keys()"
   ]
  },
  {
   "cell_type": "markdown",
   "metadata": {},
   "source": [
    "---------"
   ]
  },
  {
   "cell_type": "code",
   "execution_count": 13,
   "metadata": {
    "collapsed": false
   },
   "outputs": [],
   "source": [
    "alldf.to_csv(\"alldf.csv\")"
   ]
  },
  {
   "cell_type": "code",
   "execution_count": 14,
   "metadata": {
    "collapsed": false
   },
   "outputs": [],
   "source": [
    "import json\n",
    "with open('data_dict.json', 'w') as fp:\n",
    "    json.dump(data_dict, fp)\n"
   ]
  },
  {
   "cell_type": "markdown",
   "metadata": {},
   "source": [
    "---------"
   ]
  },
  {
   "cell_type": "markdown",
   "metadata": {
    "collapsed": true
   },
   "source": [
    "### Node and Edge data dictionary"
   ]
  },
  {
   "cell_type": "code",
   "execution_count": 15,
   "metadata": {
    "collapsed": false
   },
   "outputs": [],
   "source": [
    "input_file = ann_files[0]\n",
    "alldict = {}\n",
    "\n",
    "\n",
    "C = []\n",
    "with open(input_file) as f:\n",
    "        for line in f:\n",
    "            C.append(line.split())\n",
    "            \n",
    "\n",
    "t_dict = {}           \n",
    "for item in C:\n",
    "        if item[0][0] ==\"T\":\n",
    "            t_key = item[0]\n",
    "            t_type = item[1]\n",
    "            t_value = sum_items(item[4:])\n",
    "            t_dict.update({t_key:{t_type:t_value}})\n",
    "            alldict.update({t_key:{t_type:t_value}})         \n",
    "            \n",
    "            \n",
    "e_dict = {}\n",
    "for item in C:\n",
    "    if item[0][0] ==\"E\":\n",
    "        #print(item)\n",
    "        t_key = item[1].split(':')[1]\n",
    "        e_key = item[0]\n",
    "        e_type = item[1].split(':')[0]\n",
    "        e_val = t_dict[t_key][e_type]\n",
    "        e_dict.update({e_key:{e_type: t_key+ \":\" + e_val}})\n",
    "        alldict.update({e_key:{e_type:e_val}})   \n",
    "        \n",
    "        \n",
    "r_dict = {}\n",
    "for item in C:\n",
    "    if item[0][0] ==\"R\":\n",
    "        #print(item)\n",
    "        r_key = item[0]\n",
    "        r_relation = item[1]\n",
    "        r_from = item[2]\n",
    "        r_to = item[3]\n",
    "        r_dict.update({r_key:{r_relation,r_from,r_to}})"
   ]
  },
  {
   "cell_type": "code",
   "execution_count": 18,
   "metadata": {
    "collapsed": false
   },
   "outputs": [
    {
     "data": {
      "text/plain": [
       "[{'Arg1:E34', 'Arg2:E35', 'BEFORE'},\n",
       " {'Arg1:T49', 'Arg2:E25', 'MODIFY'},\n",
       " {'Arg1:T61', 'Arg2:E32', 'MODIFY'},\n",
       " {'Arg1:E8', 'Arg2:E7', 'BEFORE'},\n",
       " {'Arg1:T40', 'Arg2:E20', 'MODIFY'},\n",
       " {'Arg1:E18', 'Arg2:E17', 'MODIFY'},\n",
       " {'Arg1:T14', 'Arg2:E7', 'MODIFY'},\n",
       " {'Arg1:T17', 'Arg2:E7', 'MODIFY'},\n",
       " {'Arg1:T35', 'Arg2:E19', 'MODIFY'},\n",
       " {'Arg1:T16', 'Arg2:E7', 'MODIFY'},\n",
       " {'Arg1:E29', 'Arg2:E28', 'SUB_PROCEDURE'},\n",
       " {'Arg1:T42', 'Arg2:E21', 'MODIFY'},\n",
       " {'Arg1:E25', 'Arg2:E26', 'BEFORE'},\n",
       " {'Arg1:T45', 'Arg2:E22', 'MODIFY'},\n",
       " {'Arg1:T65', 'Arg2:E34', 'MODIFY'},\n",
       " {'Arg1:E27', 'Arg2:E28', 'BEFORE'},\n",
       " {'Arg1:E18', 'Arg2:T31', 'IDENTICAL'},\n",
       " {'AFTER', 'Arg1:E1', 'Arg2:E3'},\n",
       " {'Arg1:T11', 'Arg2:E5', 'MODIFY'},\n",
       " {'Arg1:T44', 'Arg2:E22', 'MODIFY'},\n",
       " {'Arg1:E28', 'Arg2:E30', 'BEFORE'},\n",
       " {'Arg1:T27', 'Arg2:E14', 'MODIFY'},\n",
       " {'Arg1:E5', 'Arg2:E4', 'IDENTICAL'},\n",
       " {'Arg1:T10', 'Arg2:E5', 'MODIFY'},\n",
       " {'Arg1:E6', 'Arg2:E5', 'MODIFY'},\n",
       " {'Arg1:T24', 'Arg2:E12', 'MODIFY'},\n",
       " {'Arg1:T54', 'Arg2:E28', 'MODIFY'},\n",
       " {'Arg1:T60', 'Arg2:E32', 'MODIFY'},\n",
       " {'Arg1:T37', 'Arg2:E19', 'MODIFY'},\n",
       " {'Arg1:T20', 'Arg2:E9', 'MODIFY'},\n",
       " {'Arg1:E12', 'Arg2:E10', 'SUB_PROCEDURE'},\n",
       " {'Arg1:T36', 'Arg2:E19', 'MODIFY'},\n",
       " {'Arg1:E11', 'Arg2:E10', 'IDENTICAL'},\n",
       " {'Arg1:E2', 'Arg2:E1', 'BEFORE'},\n",
       " {'Arg1:T38', 'Arg2:T37', 'MODIFY'},\n",
       " {'Arg1:T29', 'Arg2:E15', 'MODIFY'},\n",
       " {'Arg1:T58', 'Arg2:E31', 'MODIFY'},\n",
       " {'Arg1:T15', 'Arg2:E7', 'MODIFY'},\n",
       " {'Arg1:T62', 'Arg2:E32', 'MODIFY'},\n",
       " {'Arg1:T31', 'Arg2:E16', 'MODIFY'},\n",
       " {'Arg1:E14', 'Arg2:E13', 'CAUSE'},\n",
       " {'Arg1:T18', 'Arg2:E7', 'MODIFY'},\n",
       " {'Arg1:T52', 'Arg2:E27', 'MODIFY'}]"
      ]
     },
     "execution_count": 18,
     "metadata": {},
     "output_type": "execute_result"
    }
   ],
   "source": [
    "list(r_dict.values()) "
   ]
  },
  {
   "cell_type": "code",
   "execution_count": 40,
   "metadata": {
    "collapsed": false
   },
   "outputs": [
    {
     "data": {
      "text/plain": [
       "{'E1': {'Activity': 'T4: presented'},\n",
       " 'E10': {'Diagnostic_procedure': 'T21: electrocardiogram'},\n",
       " 'E11': {'Diagnostic_procedure': 'T22: ECG'},\n",
       " 'E12': {'Diagnostic_procedure': 'T23: sinus rhythm'},\n",
       " 'E13': {'Sign_symptom': 'T25: Wolff– Parkinson– White pre-excitation pattern'},\n",
       " 'E14': {'Disease_disorder': 'T26: accessory pathway'},\n",
       " 'E15': {'Diagnostic_procedure': 'T28: echocardiography'},\n",
       " 'E16': {'Disease_disorder': \"T30: Ebstein's anomaly\"},\n",
       " 'E17': {'Sign_symptom': 'T32: apical displacement'},\n",
       " 'E18': {'Coreference': 'T33: valve'},\n",
       " 'E19': {'Disease_disorder': 'T34: atrialized'},\n",
       " 'E2': {'Sign_symptom': 'T5: healthy'},\n",
       " 'E20': {'Sign_symptom': 'T39: elongated'},\n",
       " 'E21': {'Sign_symptom': 'T41: rudimentary'},\n",
       " 'E22': {'Diagnostic_procedure': 'T43: echocardiography'},\n",
       " 'E23': {'Disease_disorder': 'T46: patent foramen ovale'},\n",
       " 'E24': {'Sign_symptom': 'T47: right-to-left shunting'},\n",
       " 'E25': {'Sign_symptom': 'T48: bubbles'},\n",
       " 'E26': {'Diagnostic_procedure': 'T50: electrophysiologic study'},\n",
       " 'E27': {'Diagnostic_procedure': 'T51: mapping'},\n",
       " 'E28': {'Therapeutic_procedure': 'T53: ablation'},\n",
       " 'E29': {'Therapeutic_procedure': 'T55: ablation catheter'},\n",
       " 'E3': {'Duration': 'T6: 6-week'},\n",
       " 'E30': {'Diagnostic_procedure': 'T56: ECG'},\n",
       " 'E31': {'Diagnostic_procedure': 'T57: PR interval'},\n",
       " 'E32': {'Diagnostic_procedure': 'T59: QRS complex'},\n",
       " 'E33': {'Disease_disorder': 'T63: abnormal impulse conduction'},\n",
       " 'E34': {'Disease_disorder': 'T64: atrialized'},\n",
       " 'E35': {'Sign_symptom': 'T66: palpitations'},\n",
       " 'E36': {'Activity': 'T67: follow-up'},\n",
       " 'E37': {'Date': 'T68: 6 months after'},\n",
       " 'E4': {'Sign_symptom': 'T7: palpitations'},\n",
       " 'E5': {'Coreference': 'T8: symptoms'},\n",
       " 'E6': {'Activity': 'T9: rest'},\n",
       " 'E7': {'Sign_symptom': 'T13: regurgitation murmur'},\n",
       " 'E8': {'Sign_symptom': 'T12: dyspnea'},\n",
       " 'E9': {'Diagnostic_procedure': 'T19: physical examination'}}"
      ]
     },
     "execution_count": 40,
     "metadata": {},
     "output_type": "execute_result"
    }
   ],
   "source": [
    "e_dict"
   ]
  },
  {
   "cell_type": "code",
   "execution_count": 41,
   "metadata": {
    "collapsed": false
   },
   "outputs": [],
   "source": [
    "import json\n",
    "with open('e_dict.json', 'w') as fp:\n",
    "    json.dump(e_dict, fp)\n"
   ]
  },
  {
   "cell_type": "code",
   "execution_count": 42,
   "metadata": {
    "collapsed": false
   },
   "outputs": [
    {
     "data": {
      "text/plain": [
       "{'T1': {'Age': ' 28-year-old'},\n",
       " 'T10': {'Frequency': ' 2–3 times per week'},\n",
       " 'T11': {'Detailed_description': ' up to 30 minutes at a time'},\n",
       " 'T12': {'Sign_symptom': ' dyspnea'},\n",
       " 'T13': {'Sign_symptom': ' regurgitation murmur'},\n",
       " 'T14': {'Biological_structure': ' tricuspid'},\n",
       " 'T15': {'Detailed_description': ' holosystolic'},\n",
       " 'T16': {'Qualitative_concept': ' grade 2/6'},\n",
       " 'T17': {'Biological_structure': ' left sternal border'},\n",
       " 'T18': {'Detailed_description': ' inspiratory accentuation'},\n",
       " 'T19': {'Diagnostic_procedure': ' physical examination'},\n",
       " 'T2': {'History': ' previously healthy'},\n",
       " 'T20': {'Qualitative_concept': ' unremarkable'},\n",
       " 'T21': {'Diagnostic_procedure': ' electrocardiogram'},\n",
       " 'T22': {'Diagnostic_procedure': ' ECG'},\n",
       " 'T23': {'Diagnostic_procedure': ' sinus rhythm'},\n",
       " 'T24': {'Qualitative_concept': ' normal'},\n",
       " 'T25': {'Sign_symptom': ' Wolff– Parkinson– White pre-excitation pattern'},\n",
       " 'T26': {'Disease_disorder': ' accessory pathway'},\n",
       " 'T27': {'Detailed_description': ' right-sided'},\n",
       " 'T28': {'Diagnostic_procedure': ' echocardiography'},\n",
       " 'T29': {'Biological_structure': ' Transthoracic'},\n",
       " 'T3': {'Gender': ' man'},\n",
       " 'T30': {'Disease_disorder': \" Ebstein's anomaly\"},\n",
       " 'T31': {'Biological_structure': ' tricuspid valve'},\n",
       " 'T32': {'Sign_symptom': ' apical displacement'},\n",
       " 'T33': {'Coreference': ' valve'},\n",
       " 'T34': {'Disease_disorder': ' atrialized'},\n",
       " 'T35': {'Biological_structure': ' right ventricle'},\n",
       " 'T36': {'Biological_structure': ' right atrium'},\n",
       " 'T37': {'Biological_structure': ' right ventricle'},\n",
       " 'T38': {'Biological_structure': ' inlet'},\n",
       " 'T39': {'Sign_symptom': ' elongated'},\n",
       " 'T4': {'Activity': ' presented'},\n",
       " 'T40': {'Biological_structure': ' anterior tricuspid valve leaflet'},\n",
       " 'T41': {'Sign_symptom': ' rudimentary'},\n",
       " 'T42': {'Biological_structure': ' septal leaflet'},\n",
       " 'T43': {'Diagnostic_procedure': ' echocardiography'},\n",
       " 'T44': {'Detailed_description': ' Contrast'},\n",
       " 'T45': {'Detailed_description': ' using saline'},\n",
       " 'T46': {'Disease_disorder': ' patent foramen ovale'},\n",
       " 'T47': {'Sign_symptom': ' right-to-left shunting'},\n",
       " 'T48': {'Sign_symptom': ' bubbles'},\n",
       " 'T49': {'Biological_structure': ' left atrium'},\n",
       " 'T5': {'Sign_symptom': ' healthy'},\n",
       " 'T50': {'Diagnostic_procedure': ' electrophysiologic study'},\n",
       " 'T51': {'Diagnostic_procedure': ' mapping'},\n",
       " 'T52': {'Biological_structure': ' accessory pathway'},\n",
       " 'T53': {'Therapeutic_procedure': ' ablation'},\n",
       " 'T54': {'Detailed_description': ' radiofrequency'},\n",
       " 'T55': {'Therapeutic_procedure': ' ablation catheter'},\n",
       " 'T56': {'Diagnostic_procedure': ' ECG'},\n",
       " 'T57': {'Diagnostic_procedure': ' PR interval'},\n",
       " 'T58': {'Qualitative_concept': ' prolonged'},\n",
       " 'T59': {'Diagnostic_procedure': ' QRS complex'},\n",
       " 'T6': {'Duration': ' 6-week'},\n",
       " 'T60': {'Qualitative_concept': ' “second”'},\n",
       " 'T61': {'Qualitative_concept': ' odd'},\n",
       " 'T62': {'Detailed_description': ' leads III, aVF and V2–V4'},\n",
       " 'T63': {'Disease_disorder': ' abnormal impulse conduction'},\n",
       " 'T64': {'Disease_disorder': ' atrialized'},\n",
       " 'T65': {'Biological_structure': ' right ventricle'},\n",
       " 'T66': {'Sign_symptom': ' palpitations'},\n",
       " 'T67': {'Activity': ' follow-up'},\n",
       " 'T68': {'Date': ' 6 months after'},\n",
       " 'T7': {'Sign_symptom': ' palpitations'},\n",
       " 'T8': {'Coreference': ' symptoms'},\n",
       " 'T9': {'Activity': ' rest'}}"
      ]
     },
     "execution_count": 42,
     "metadata": {},
     "output_type": "execute_result"
    }
   ],
   "source": [
    "t_dict"
   ]
  },
  {
   "cell_type": "markdown",
   "metadata": {
    "collapsed": true
   },
   "source": [
    "------------"
   ]
  },
  {
   "cell_type": "code",
   "execution_count": 45,
   "metadata": {
    "collapsed": false
   },
   "outputs": [
    {
     "data": {
      "text/plain": [
       "{'E1': {'Activity': ' presented'},\n",
       " 'E10': {'Diagnostic_procedure': ' electrocardiogram'},\n",
       " 'E11': {'Diagnostic_procedure': ' ECG'},\n",
       " 'E12': {'Diagnostic_procedure': ' sinus rhythm'},\n",
       " 'E13': {'Sign_symptom': ' Wolff– Parkinson– White pre-excitation pattern'},\n",
       " 'E14': {'Disease_disorder': ' accessory pathway'},\n",
       " 'E15': {'Diagnostic_procedure': ' echocardiography'},\n",
       " 'E16': {'Disease_disorder': \" Ebstein's anomaly\"},\n",
       " 'E17': {'Sign_symptom': ' apical displacement'},\n",
       " 'E18': {'Coreference': ' valve'},\n",
       " 'E19': {'Disease_disorder': ' atrialized'},\n",
       " 'E2': {'Sign_symptom': ' healthy'},\n",
       " 'E20': {'Sign_symptom': ' elongated'},\n",
       " 'E21': {'Sign_symptom': ' rudimentary'},\n",
       " 'E22': {'Diagnostic_procedure': ' echocardiography'},\n",
       " 'E23': {'Disease_disorder': ' patent foramen ovale'},\n",
       " 'E24': {'Sign_symptom': ' right-to-left shunting'},\n",
       " 'E25': {'Sign_symptom': ' bubbles'},\n",
       " 'E26': {'Diagnostic_procedure': ' electrophysiologic study'},\n",
       " 'E27': {'Diagnostic_procedure': ' mapping'},\n",
       " 'E28': {'Therapeutic_procedure': ' ablation'},\n",
       " 'E29': {'Therapeutic_procedure': ' ablation catheter'},\n",
       " 'E3': {'Duration': ' 6-week'},\n",
       " 'E30': {'Diagnostic_procedure': ' ECG'},\n",
       " 'E31': {'Diagnostic_procedure': ' PR interval'},\n",
       " 'E32': {'Diagnostic_procedure': ' QRS complex'},\n",
       " 'E33': {'Disease_disorder': ' abnormal impulse conduction'},\n",
       " 'E34': {'Disease_disorder': ' atrialized'},\n",
       " 'E35': {'Sign_symptom': ' palpitations'},\n",
       " 'E36': {'Activity': ' follow-up'},\n",
       " 'E37': {'Date': ' 6 months after'},\n",
       " 'E4': {'Sign_symptom': ' palpitations'},\n",
       " 'E5': {'Coreference': ' symptoms'},\n",
       " 'E6': {'Activity': ' rest'},\n",
       " 'E7': {'Sign_symptom': ' regurgitation murmur'},\n",
       " 'E8': {'Sign_symptom': ' dyspnea'},\n",
       " 'E9': {'Diagnostic_procedure': ' physical examination'},\n",
       " 'T1': {'Age': ' 28-year-old'},\n",
       " 'T10': {'Frequency': ' 2–3 times per week'},\n",
       " 'T11': {'Detailed_description': ' up to 30 minutes at a time'},\n",
       " 'T12': {'Sign_symptom': ' dyspnea'},\n",
       " 'T13': {'Sign_symptom': ' regurgitation murmur'},\n",
       " 'T14': {'Biological_structure': ' tricuspid'},\n",
       " 'T15': {'Detailed_description': ' holosystolic'},\n",
       " 'T16': {'Qualitative_concept': ' grade 2/6'},\n",
       " 'T17': {'Biological_structure': ' left sternal border'},\n",
       " 'T18': {'Detailed_description': ' inspiratory accentuation'},\n",
       " 'T19': {'Diagnostic_procedure': ' physical examination'},\n",
       " 'T2': {'History': ' previously healthy'},\n",
       " 'T20': {'Qualitative_concept': ' unremarkable'},\n",
       " 'T21': {'Diagnostic_procedure': ' electrocardiogram'},\n",
       " 'T22': {'Diagnostic_procedure': ' ECG'},\n",
       " 'T23': {'Diagnostic_procedure': ' sinus rhythm'},\n",
       " 'T24': {'Qualitative_concept': ' normal'},\n",
       " 'T25': {'Sign_symptom': ' Wolff– Parkinson– White pre-excitation pattern'},\n",
       " 'T26': {'Disease_disorder': ' accessory pathway'},\n",
       " 'T27': {'Detailed_description': ' right-sided'},\n",
       " 'T28': {'Diagnostic_procedure': ' echocardiography'},\n",
       " 'T29': {'Biological_structure': ' Transthoracic'},\n",
       " 'T3': {'Gender': ' man'},\n",
       " 'T30': {'Disease_disorder': \" Ebstein's anomaly\"},\n",
       " 'T31': {'Biological_structure': ' tricuspid valve'},\n",
       " 'T32': {'Sign_symptom': ' apical displacement'},\n",
       " 'T33': {'Coreference': ' valve'},\n",
       " 'T34': {'Disease_disorder': ' atrialized'},\n",
       " 'T35': {'Biological_structure': ' right ventricle'},\n",
       " 'T36': {'Biological_structure': ' right atrium'},\n",
       " 'T37': {'Biological_structure': ' right ventricle'},\n",
       " 'T38': {'Biological_structure': ' inlet'},\n",
       " 'T39': {'Sign_symptom': ' elongated'},\n",
       " 'T4': {'Activity': ' presented'},\n",
       " 'T40': {'Biological_structure': ' anterior tricuspid valve leaflet'},\n",
       " 'T41': {'Sign_symptom': ' rudimentary'},\n",
       " 'T42': {'Biological_structure': ' septal leaflet'},\n",
       " 'T43': {'Diagnostic_procedure': ' echocardiography'},\n",
       " 'T44': {'Detailed_description': ' Contrast'},\n",
       " 'T45': {'Detailed_description': ' using saline'},\n",
       " 'T46': {'Disease_disorder': ' patent foramen ovale'},\n",
       " 'T47': {'Sign_symptom': ' right-to-left shunting'},\n",
       " 'T48': {'Sign_symptom': ' bubbles'},\n",
       " 'T49': {'Biological_structure': ' left atrium'},\n",
       " 'T5': {'Sign_symptom': ' healthy'},\n",
       " 'T50': {'Diagnostic_procedure': ' electrophysiologic study'},\n",
       " 'T51': {'Diagnostic_procedure': ' mapping'},\n",
       " 'T52': {'Biological_structure': ' accessory pathway'},\n",
       " 'T53': {'Therapeutic_procedure': ' ablation'},\n",
       " 'T54': {'Detailed_description': ' radiofrequency'},\n",
       " 'T55': {'Therapeutic_procedure': ' ablation catheter'},\n",
       " 'T56': {'Diagnostic_procedure': ' ECG'},\n",
       " 'T57': {'Diagnostic_procedure': ' PR interval'},\n",
       " 'T58': {'Qualitative_concept': ' prolonged'},\n",
       " 'T59': {'Diagnostic_procedure': ' QRS complex'},\n",
       " 'T6': {'Duration': ' 6-week'},\n",
       " 'T60': {'Qualitative_concept': ' “second”'},\n",
       " 'T61': {'Qualitative_concept': ' odd'},\n",
       " 'T62': {'Detailed_description': ' leads III, aVF and V2–V4'},\n",
       " 'T63': {'Disease_disorder': ' abnormal impulse conduction'},\n",
       " 'T64': {'Disease_disorder': ' atrialized'},\n",
       " 'T65': {'Biological_structure': ' right ventricle'},\n",
       " 'T66': {'Sign_symptom': ' palpitations'},\n",
       " 'T67': {'Activity': ' follow-up'},\n",
       " 'T68': {'Date': ' 6 months after'},\n",
       " 'T7': {'Sign_symptom': ' palpitations'},\n",
       " 'T8': {'Coreference': ' symptoms'},\n",
       " 'T9': {'Activity': ' rest'}}"
      ]
     },
     "execution_count": 45,
     "metadata": {},
     "output_type": "execute_result"
    }
   ],
   "source": [
    "alldict"
   ]
  },
  {
   "cell_type": "code",
   "execution_count": 46,
   "metadata": {
    "collapsed": true
   },
   "outputs": [],
   "source": [
    "import json\n",
    "with open('alldict.json', 'w') as fp:\n",
    "    json.dump(alldict, fp)"
   ]
  },
  {
   "cell_type": "code",
   "execution_count": null,
   "metadata": {
    "collapsed": true
   },
   "outputs": [],
   "source": []
  },
  {
   "cell_type": "code",
   "execution_count": null,
   "metadata": {
    "collapsed": true
   },
   "outputs": [],
   "source": []
  },
  {
   "cell_type": "code",
   "execution_count": null,
   "metadata": {
    "collapsed": true
   },
   "outputs": [],
   "source": []
  },
  {
   "cell_type": "code",
   "execution_count": null,
   "metadata": {
    "collapsed": true
   },
   "outputs": [],
   "source": []
  },
  {
   "cell_type": "code",
   "execution_count": null,
   "metadata": {
    "collapsed": true
   },
   "outputs": [],
   "source": []
  },
  {
   "cell_type": "code",
   "execution_count": null,
   "metadata": {
    "collapsed": true
   },
   "outputs": [],
   "source": []
  },
  {
   "cell_type": "code",
   "execution_count": null,
   "metadata": {
    "collapsed": true
   },
   "outputs": [],
   "source": []
  },
  {
   "cell_type": "code",
   "execution_count": null,
   "metadata": {
    "collapsed": true
   },
   "outputs": [],
   "source": []
  },
  {
   "cell_type": "code",
   "execution_count": null,
   "metadata": {
    "collapsed": true
   },
   "outputs": [],
   "source": []
  },
  {
   "cell_type": "code",
   "execution_count": null,
   "metadata": {
    "collapsed": true
   },
   "outputs": [],
   "source": []
  },
  {
   "cell_type": "code",
   "execution_count": null,
   "metadata": {
    "collapsed": true
   },
   "outputs": [],
   "source": []
  },
  {
   "cell_type": "code",
   "execution_count": null,
   "metadata": {
    "collapsed": true
   },
   "outputs": [],
   "source": []
  },
  {
   "cell_type": "code",
   "execution_count": null,
   "metadata": {
    "collapsed": true
   },
   "outputs": [],
   "source": []
  },
  {
   "cell_type": "code",
   "execution_count": null,
   "metadata": {
    "collapsed": true
   },
   "outputs": [],
   "source": []
  }
 ],
 "metadata": {
  "kernelspec": {
   "display_name": "Python 3",
   "language": "python",
   "name": "python3"
  },
  "language_info": {
   "codemirror_mode": {
    "name": "ipython",
    "version": 3
   },
   "file_extension": ".py",
   "mimetype": "text/x-python",
   "name": "python",
   "nbconvert_exporter": "python",
   "pygments_lexer": "ipython3",
   "version": "3.5.3"
  },
  "widgets": {
   "state": {},
   "version": "1.1.2"
  }
 },
 "nbformat": 4,
 "nbformat_minor": 1
}
