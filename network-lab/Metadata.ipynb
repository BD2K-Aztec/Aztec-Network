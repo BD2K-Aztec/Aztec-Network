{
 "cells": [
  {
   "cell_type": "markdown",
   "metadata": {},
   "source": [
    "### Metadata"
   ]
  },
  {
   "cell_type": "code",
   "execution_count": 10,
   "metadata": {
    "collapsed": true
   },
   "outputs": [],
   "source": [
    "import json"
   ]
  },
  {
   "cell_type": "code",
   "execution_count": 11,
   "metadata": {
    "collapsed": true
   },
   "outputs": [],
   "source": [
    "metadata = {\"type\" : ['Coreference', 'Severity', 'Occupation', 'Other_event',\\\n",
    "                      'Frequency', 'Gender', 'Biological_structure', 'Volume',\\\n",
    "                      'Biological_attribute', 'Age', 'Sign_symptom', 'Date',\\\n",
    "                      'History', 'Time', 'Shape', 'Lab_value', 'Nonbiological_location',\\\n",
    "                      'Administration', 'Distance', 'Other_entity', 'Height',\\\n",
    "                      'Activity', 'Family_history', 'Dosage', 'Ethnicity',\\\n",
    "                      'Subject', 'Detailed_description', 'Qualitative_concept',\\\n",
    "                      'Texture', 'Area', 'Weight', 'Quantitative_concept', \\\n",
    "                      'Therapeutic_procedure', 'Disease_disorder', 'Duration',\\\n",
    "                      'Color', 'Medication', 'Diagnostic_procedure'],\\\n",
    "            \"imp_type\" : ['Severity', \\\n",
    "                      'Biological_structure', \\\n",
    "                      'Biological_attribute',  'Sign_symptom', \\\n",
    "                      'History',  'Lab_value', \\\n",
    "                      'Activity', 'Family_history', 'Dosage', \\\n",
    "                      'Detailed_description', 'Qualitative_concept',\\\n",
    "                      'Quantitative_concept', \\\n",
    "                      'Therapeutic_procedure', 'Disease_disorder', 'Duration',\\\n",
    "                      'Medication', 'Diagnostic_procedure'],\\\n",
    "            \"relations\" : ['BEFORE','MODIFY','SUB_PROCEDURE','IDENTICAL','AFTER',\\\n",
    "                        'OVERLAP', 'CAUSE','CO-OCCURANCE','DECREASE_TO',\\\n",
    "                        'DECREASE_FROM', 'INCREASE_FROM','INCREASE_TO'],\\\n",
    "           \"color_dict\" : {'Coreference':'Green', 'Severity':'Gold',\\\n",
    "                           'Occupation':'MediumVioletRed', 'Other_event':'Gray',\\\n",
    "                           'Frequency':'GreenYellow', 'Gender':'MediumVioletRed',\\\n",
    "                           'Biological_structure':'DarkGreen', 'Volume':'Green',\\\n",
    "                           'Biological_attribute':'DarkGreen', 'Age':'MediumVioletRed',\\\n",
    "                           'Sign_symptom':'GreenYellow', 'Date':'Green',\\\n",
    "                           'History': 'MediumVioletRed', 'Time':'Green', 'Shape':'Green',\\\n",
    "                           'Lab_value':'Yellow', 'Nonbiological_location':'LightGreen',\\\n",
    "                           'Administration':'Gold', 'Distance':'Green',\\\n",
    "                           'Other_entity':'Grey', 'Height':'Green',\\\n",
    "                           'Activity':'DarkRed', 'Family_history':'GreenYellow',\\\n",
    "                           'Dosage':'Gold', 'Ethnicity':'Pink',\\\n",
    "                           'Subject':'Gold', 'Detailed_description':'DarkGreen',\\\n",
    "                           'Qualitative_concept':'Gold','Texture':'Green',\\\n",
    "                           'Area':'Green', 'Weight': 'Green',\\\n",
    "                           'Quantitative_concept':'Gold', \\\n",
    "                           'Therapeutic_procedure': 'Blue',\\\n",
    "                           'Disease_disorder':'Chocolate', 'Duration':'Green',\\\n",
    "                           'Color':'Green','Medication':'Aqua',\\\n",
    "                           'Diagnostic_procedure':'DeepSkyBlue'}\n",
    "            }\n",
    "                           "
   ]
  },
  {
   "cell_type": "code",
   "execution_count": 12,
   "metadata": {
    "collapsed": true
   },
   "outputs": [],
   "source": [
    "with open(\"./data/mdata.json\", 'w') as fp:\n",
    "    json.dump(metadata, fp)"
   ]
  },
  {
   "cell_type": "code",
   "execution_count": 13,
   "metadata": {
    "collapsed": true
   },
   "outputs": [],
   "source": [
    "with open('./data/mdata.json', 'r') as f:\n",
    "     mydata = json.load(f)"
   ]
  },
  {
   "cell_type": "code",
   "execution_count": 14,
   "metadata": {},
   "outputs": [
    {
     "data": {
      "text/plain": [
       "{'color_dict': {'Activity': 'DarkRed',\n",
       "  'Administration': 'Gold',\n",
       "  'Age': 'MediumVioletRed',\n",
       "  'Area': 'Green',\n",
       "  'Biological_attribute': 'DarkGreen',\n",
       "  'Biological_structure': 'DarkGreen',\n",
       "  'Color': 'Green',\n",
       "  'Coreference': 'Green',\n",
       "  'Date': 'Green',\n",
       "  'Detailed_description': 'DarkGreen',\n",
       "  'Diagnostic_procedure': 'DeepSkyBlue',\n",
       "  'Disease_disorder': 'Chocolate',\n",
       "  'Distance': 'Green',\n",
       "  'Dosage': 'Gold',\n",
       "  'Duration': 'Green',\n",
       "  'Ethnicity': 'Pink',\n",
       "  'Family_history': 'GreenYellow',\n",
       "  'Frequency': 'GreenYellow',\n",
       "  'Gender': 'MediumVioletRed',\n",
       "  'Height': 'Green',\n",
       "  'History': 'MediumVioletRed',\n",
       "  'Lab_value': 'Yellow',\n",
       "  'Medication': 'Aqua',\n",
       "  'Nonbiological_location': 'LightGreen',\n",
       "  'Occupation': 'MediumVioletRed',\n",
       "  'Other_entity': 'Grey',\n",
       "  'Other_event': 'Gray',\n",
       "  'Qualitative_concept': 'Gold',\n",
       "  'Quantitative_concept': 'Gold',\n",
       "  'Severity': 'Gold',\n",
       "  'Shape': 'Green',\n",
       "  'Sign_symptom': 'GreenYellow',\n",
       "  'Subject': 'Gold',\n",
       "  'Texture': 'Green',\n",
       "  'Therapeutic_procedure': 'Blue',\n",
       "  'Time': 'Green',\n",
       "  'Volume': 'Green',\n",
       "  'Weight': 'Green'},\n",
       " 'imp_type': ['Severity',\n",
       "  'Biological_structure',\n",
       "  'Biological_attribute',\n",
       "  'Sign_symptom',\n",
       "  'History',\n",
       "  'Lab_value',\n",
       "  'Activity',\n",
       "  'Family_history',\n",
       "  'Dosage',\n",
       "  'Detailed_description',\n",
       "  'Qualitative_concept',\n",
       "  'Quantitative_concept',\n",
       "  'Therapeutic_procedure',\n",
       "  'Disease_disorder',\n",
       "  'Duration',\n",
       "  'Medication',\n",
       "  'Diagnostic_procedure'],\n",
       " 'relations': ['BEFORE',\n",
       "  'MODIFY',\n",
       "  'SUB_PROCEDURE',\n",
       "  'IDENTICAL',\n",
       "  'AFTER',\n",
       "  'OVERLAP',\n",
       "  'CAUSE',\n",
       "  'CO-OCCURANCE',\n",
       "  'DECREASE_TO',\n",
       "  'DECREASE_FROM',\n",
       "  'INCREASE_FROM',\n",
       "  'INCREASE_TO'],\n",
       " 'type': ['Coreference',\n",
       "  'Severity',\n",
       "  'Occupation',\n",
       "  'Other_event',\n",
       "  'Frequency',\n",
       "  'Gender',\n",
       "  'Biological_structure',\n",
       "  'Volume',\n",
       "  'Biological_attribute',\n",
       "  'Age',\n",
       "  'Sign_symptom',\n",
       "  'Date',\n",
       "  'History',\n",
       "  'Time',\n",
       "  'Shape',\n",
       "  'Lab_value',\n",
       "  'Nonbiological_location',\n",
       "  'Administration',\n",
       "  'Distance',\n",
       "  'Other_entity',\n",
       "  'Height',\n",
       "  'Activity',\n",
       "  'Family_history',\n",
       "  'Dosage',\n",
       "  'Ethnicity',\n",
       "  'Subject',\n",
       "  'Detailed_description',\n",
       "  'Qualitative_concept',\n",
       "  'Texture',\n",
       "  'Area',\n",
       "  'Weight',\n",
       "  'Quantitative_concept',\n",
       "  'Therapeutic_procedure',\n",
       "  'Disease_disorder',\n",
       "  'Duration',\n",
       "  'Color',\n",
       "  'Medication',\n",
       "  'Diagnostic_procedure']}"
      ]
     },
     "execution_count": 14,
     "metadata": {},
     "output_type": "execute_result"
    }
   ],
   "source": [
    "mydata"
   ]
  },
  {
   "cell_type": "markdown",
   "metadata": {},
   "source": [
    "--------"
   ]
  }
 ],
 "metadata": {
  "kernelspec": {
   "display_name": "Python 3",
   "language": "python",
   "name": "python3"
  },
  "language_info": {
   "codemirror_mode": {
    "name": "ipython",
    "version": 3
   },
   "file_extension": ".py",
   "mimetype": "text/x-python",
   "name": "python",
   "nbconvert_exporter": "python",
   "pygments_lexer": "ipython3",
   "version": "3.5.2"
  },
  "widgets": {
   "state": {},
   "version": "1.1.2"
  }
 },
 "nbformat": 4,
 "nbformat_minor": 2
}
