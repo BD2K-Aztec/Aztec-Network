{
 "cells": [
  {
   "cell_type": "markdown",
   "metadata": {},
   "source": [
    "## DataReader Test"
   ]
  },
  {
   "cell_type": "markdown",
   "metadata": {},
   "source": [
    "------"
   ]
  },
  {
   "cell_type": "code",
   "execution_count": 1,
   "metadata": {
    "collapsed": true
   },
   "outputs": [],
   "source": [
    "import pandas as pd\n",
    "import matplotlib.pyplot as plt\n",
    "import seaborn as sns\n",
    "import numpy as np"
   ]
  },
  {
   "cell_type": "code",
   "execution_count": 2,
   "metadata": {
    "collapsed": true
   },
   "outputs": [],
   "source": [
    "% matplotlib inline\n",
    "import json "
   ]
  },
  {
   "cell_type": "code",
   "execution_count": 3,
   "metadata": {
    "collapsed": true
   },
   "outputs": [],
   "source": [
    "with open('./src/mdata.json', 'r') as f:\n",
    "     mdata = json.load(f)"
   ]
  },
  {
   "cell_type": "markdown",
   "metadata": {},
   "source": [
    "--------"
   ]
  },
  {
   "cell_type": "code",
   "execution_count": 4,
   "metadata": {
    "collapsed": true
   },
   "outputs": [],
   "source": [
    "from src import DataReader as DTR"
   ]
  },
  {
   "cell_type": "markdown",
   "metadata": {},
   "source": [
    "-----"
   ]
  },
  {
   "cell_type": "markdown",
   "metadata": {},
   "source": [
    "### Debug - Files"
   ]
  },
  {
   "cell_type": "code",
   "execution_count": 5,
   "metadata": {},
   "outputs": [
    {
     "name": "stdout",
     "output_type": "stream",
     "text": [
      "Done T-data look file tdbg.txt\n",
      "Done E-data look file edbg.txt\n",
      "Done R-data look file rdbg.txt\n",
      "Done S-data look file sdbg.txt\n"
     ]
    }
   ],
   "source": [
    "PMID = \"18561524\"\n",
    "\n",
    "\n",
    "dr = DTR.DataReader(\"./data/\" + PMID+\".ann\",mdata)\n",
    "dr.line_to_list()\n",
    "\n",
    "print('Done T-data look file tdbg.txt')\n",
    "dr.set_tdata(verbose=2) \n",
    "\n",
    "print('Done E-data look file edbg.txt')\n",
    "dr.set_edata(verbose=2) \n",
    "\n",
    "print('Done R-data look file rdbg.txt')\n",
    "dr.set_rdata(verbose=2) \n",
    "\n",
    "print('Done S-data look file sdbg.txt')\n",
    "dr.set_sdata(verbose=2) "
   ]
  },
  {
   "cell_type": "markdown",
   "metadata": {},
   "source": [
    "--------------"
   ]
  },
  {
   "cell_type": "markdown",
   "metadata": {
    "collapsed": true
   },
   "source": [
    "### Create a  sample Network Files"
   ]
  },
  {
   "cell_type": "code",
   "execution_count": 6,
   "metadata": {
    "collapsed": true
   },
   "outputs": [],
   "source": [
    "PMID = \"18561524\"\n",
    "DR = DTR.DataReader(\"./data/\" + PMID + \".ann\",mdata)\n",
    "jsondata = DR.get_data(\"./network/\" + \"sample\" + \".json\", dump=True)"
   ]
  },
  {
   "cell_type": "code",
   "execution_count": 7,
   "metadata": {},
   "outputs": [
    {
     "data": {
      "text/html": [
       "<div>\n",
       "<style scoped>\n",
       "    .dataframe tbody tr th:only-of-type {\n",
       "        vertical-align: middle;\n",
       "    }\n",
       "\n",
       "    .dataframe tbody tr th {\n",
       "        vertical-align: top;\n",
       "    }\n",
       "\n",
       "    .dataframe thead th {\n",
       "        text-align: right;\n",
       "    }\n",
       "</style>\n",
       "<table border=\"1\" class=\"dataframe\">\n",
       "  <thead>\n",
       "    <tr style=\"text-align: right;\">\n",
       "      <th></th>\n",
       "      <th>icolor</th>\n",
       "      <th>icount</th>\n",
       "      <th>type</th>\n",
       "    </tr>\n",
       "  </thead>\n",
       "  <tbody>\n",
       "    <tr>\n",
       "      <th>0</th>\n",
       "      <td>Green</td>\n",
       "      <td>6</td>\n",
       "      <td>Coreference</td>\n",
       "    </tr>\n",
       "    <tr>\n",
       "      <th>1</th>\n",
       "      <td>Gold</td>\n",
       "      <td>3</td>\n",
       "      <td>Severity</td>\n",
       "    </tr>\n",
       "    <tr>\n",
       "      <th>2</th>\n",
       "      <td>MediumVioletRed</td>\n",
       "      <td>1</td>\n",
       "      <td>Gender</td>\n",
       "    </tr>\n",
       "    <tr>\n",
       "      <th>3</th>\n",
       "      <td>DarkGreen</td>\n",
       "      <td>9</td>\n",
       "      <td>Biological_structure</td>\n",
       "    </tr>\n",
       "    <tr>\n",
       "      <th>4</th>\n",
       "      <td>MediumVioletRed</td>\n",
       "      <td>1</td>\n",
       "      <td>Age</td>\n",
       "    </tr>\n",
       "    <tr>\n",
       "      <th>5</th>\n",
       "      <td>GreenYellow</td>\n",
       "      <td>18</td>\n",
       "      <td>Sign_symptom</td>\n",
       "    </tr>\n",
       "    <tr>\n",
       "      <th>6</th>\n",
       "      <td>Green</td>\n",
       "      <td>7</td>\n",
       "      <td>Date</td>\n",
       "    </tr>\n",
       "    <tr>\n",
       "      <th>7</th>\n",
       "      <td>MediumVioletRed</td>\n",
       "      <td>1</td>\n",
       "      <td>History</td>\n",
       "    </tr>\n",
       "    <tr>\n",
       "      <th>8</th>\n",
       "      <td>Yellow</td>\n",
       "      <td>17</td>\n",
       "      <td>Lab_value</td>\n",
       "    </tr>\n",
       "    <tr>\n",
       "      <th>9</th>\n",
       "      <td>LightGreen</td>\n",
       "      <td>5</td>\n",
       "      <td>Nonbiological_location</td>\n",
       "    </tr>\n",
       "    <tr>\n",
       "      <th>10</th>\n",
       "      <td>Gold</td>\n",
       "      <td>2</td>\n",
       "      <td>Administration</td>\n",
       "    </tr>\n",
       "    <tr>\n",
       "      <th>11</th>\n",
       "      <td>Green</td>\n",
       "      <td>1</td>\n",
       "      <td>Distance</td>\n",
       "    </tr>\n",
       "    <tr>\n",
       "      <th>12</th>\n",
       "      <td>DarkRed</td>\n",
       "      <td>9</td>\n",
       "      <td>Activity</td>\n",
       "    </tr>\n",
       "    <tr>\n",
       "      <th>13</th>\n",
       "      <td>Gold</td>\n",
       "      <td>2</td>\n",
       "      <td>Dosage</td>\n",
       "    </tr>\n",
       "    <tr>\n",
       "      <th>14</th>\n",
       "      <td>DarkGreen</td>\n",
       "      <td>5</td>\n",
       "      <td>Detailed_description</td>\n",
       "    </tr>\n",
       "    <tr>\n",
       "      <th>15</th>\n",
       "      <td>Gold</td>\n",
       "      <td>20</td>\n",
       "      <td>Qualitative_concept</td>\n",
       "    </tr>\n",
       "    <tr>\n",
       "      <th>16</th>\n",
       "      <td>Blue</td>\n",
       "      <td>5</td>\n",
       "      <td>Therapeutic_procedure</td>\n",
       "    </tr>\n",
       "    <tr>\n",
       "      <th>17</th>\n",
       "      <td>Chocolate</td>\n",
       "      <td>6</td>\n",
       "      <td>Disease_disorder</td>\n",
       "    </tr>\n",
       "    <tr>\n",
       "      <th>18</th>\n",
       "      <td>Green</td>\n",
       "      <td>3</td>\n",
       "      <td>Duration</td>\n",
       "    </tr>\n",
       "    <tr>\n",
       "      <th>19</th>\n",
       "      <td>Aqua</td>\n",
       "      <td>15</td>\n",
       "      <td>Medication</td>\n",
       "    </tr>\n",
       "    <tr>\n",
       "      <th>20</th>\n",
       "      <td>DeepSkyBlue</td>\n",
       "      <td>45</td>\n",
       "      <td>Diagnostic_procedure</td>\n",
       "    </tr>\n",
       "  </tbody>\n",
       "</table>\n",
       "</div>"
      ],
      "text/plain": [
       "             icolor  icount                    type\n",
       "0             Green       6             Coreference\n",
       "1              Gold       3                Severity\n",
       "2   MediumVioletRed       1                  Gender\n",
       "3         DarkGreen       9    Biological_structure\n",
       "4   MediumVioletRed       1                     Age\n",
       "5       GreenYellow      18            Sign_symptom\n",
       "6             Green       7                    Date\n",
       "7   MediumVioletRed       1                 History\n",
       "8            Yellow      17               Lab_value\n",
       "9        LightGreen       5  Nonbiological_location\n",
       "10             Gold       2          Administration\n",
       "11            Green       1                Distance\n",
       "12          DarkRed       9                Activity\n",
       "13             Gold       2                  Dosage\n",
       "14        DarkGreen       5    Detailed_description\n",
       "15             Gold      20     Qualitative_concept\n",
       "16             Blue       5   Therapeutic_procedure\n",
       "17        Chocolate       6        Disease_disorder\n",
       "18            Green       3                Duration\n",
       "19             Aqua      15              Medication\n",
       "20      DeepSkyBlue      45    Diagnostic_procedure"
      ]
     },
     "execution_count": 7,
     "metadata": {},
     "output_type": "execute_result"
    }
   ],
   "source": [
    "pd.DataFrame(jsondata['count'])"
   ]
  }
 ],
 "metadata": {
  "kernelspec": {
   "display_name": "Python 3",
   "language": "python",
   "name": "python3"
  },
  "language_info": {
   "codemirror_mode": {
    "name": "ipython",
    "version": 3
   },
   "file_extension": ".py",
   "mimetype": "text/x-python",
   "name": "python",
   "nbconvert_exporter": "python",
   "pygments_lexer": "ipython3",
   "version": "3.5.2"
  },
  "widgets": {
   "state": {},
   "version": "1.1.2"
  }
 },
 "nbformat": 4,
 "nbformat_minor": 2
}
